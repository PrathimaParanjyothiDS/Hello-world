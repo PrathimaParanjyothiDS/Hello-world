{
  "nbformat": 4,
  "nbformat_minor": 0,
  "metadata": {
    "colab": {
      "name": " ANN.ipynb",
      "provenance": [],
      "include_colab_link": true
    },
    "kernelspec": {
      "name": "python3",
      "display_name": "Python 3"
    }
  },
  "cells": [
    {
      "cell_type": "markdown",
      "metadata": {
        "id": "view-in-github",
        "colab_type": "text"
      },
      "source": [
        "<a href=\"https://colab.research.google.com/github/PrathimaParanjyothiDS/Hello-world/blob/master/ANN.ipynb\" target=\"_parent\"><img src=\"https://colab.research.google.com/assets/colab-badge.svg\" alt=\"Open In Colab\"/></a>"
      ]
    },
    {
      "cell_type": "code",
      "metadata": {
        "id": "fEYq_YODZmR5",
        "colab_type": "code",
        "colab": {}
      },
      "source": [
        "import numpy as np\n",
        "import matplotlib.pyplot as plt\n",
        "import pandas as pd"
      ],
      "execution_count": 0,
      "outputs": []
    },
    {
      "cell_type": "code",
      "metadata": {
        "id": "JKkCeqrGcpim",
        "colab_type": "code",
        "colab": {
          "base_uri": "https://localhost:8080/",
          "height": 1000
        },
        "outputId": "2dee9eca-260d-432f-b91b-2ba89656961c"
      },
      "source": [
        "# Importing the dataset\n",
        "dataset = pd.read_csv('/Churn_Modelling.csv')\n",
        "X = dataset.iloc[:, 3:13]\n",
        "y = dataset.iloc[:, 13]\n",
        "X\n",
        "y"
      ],
      "execution_count": 9,
      "outputs": [
        {
          "output_type": "execute_result",
          "data": {
            "text/plain": [
              "0       1\n",
              "1       0\n",
              "2       1\n",
              "3       0\n",
              "4       0\n",
              "5       1\n",
              "6       0\n",
              "7       1\n",
              "8       0\n",
              "9       0\n",
              "10      0\n",
              "11      0\n",
              "12      0\n",
              "13      0\n",
              "14      0\n",
              "15      0\n",
              "16      1\n",
              "17      0\n",
              "18      0\n",
              "19      0\n",
              "20      0\n",
              "21      0\n",
              "22      1\n",
              "23      0\n",
              "24      0\n",
              "25      0\n",
              "26      0\n",
              "27      0\n",
              "28      0\n",
              "29      0\n",
              "       ..\n",
              "9970    0\n",
              "9971    0\n",
              "9972    0\n",
              "9973    0\n",
              "9974    0\n",
              "9975    1\n",
              "9976    0\n",
              "9977    0\n",
              "9978    0\n",
              "9979    0\n",
              "9980    0\n",
              "9981    1\n",
              "9982    1\n",
              "9983    0\n",
              "9984    0\n",
              "9985    0\n",
              "9986    0\n",
              "9987    0\n",
              "9988    0\n",
              "9989    0\n",
              "9990    0\n",
              "9991    1\n",
              "9992    0\n",
              "9993    0\n",
              "9994    0\n",
              "9995    0\n",
              "9996    0\n",
              "9997    1\n",
              "9998    1\n",
              "9999    0\n",
              "Name: Exited, Length: 10000, dtype: int64"
            ]
          },
          "metadata": {
            "tags": []
          },
          "execution_count": 9
        }
      ]
    },
    {
      "cell_type": "markdown",
      "metadata": {
        "id": "lRYtQWnZd-xG",
        "colab_type": "text"
      },
      "source": [
        " 1. : ->> all rows\n",
        " 2. 3:13 ->>> Index slicing"
      ]
    },
    {
      "cell_type": "code",
      "metadata": {
        "id": "Y0c9hVRDdjpy",
        "colab_type": "code",
        "colab": {}
      },
      "source": [
        "#Create dummy variables\n",
        "geography=pd.get_dummies(X[\"Geography\"],drop_first=True)\n",
        "gender=pd.get_dummies(X['Gender'],drop_first=True)\n"
      ],
      "execution_count": 0,
      "outputs": []
    },
    {
      "cell_type": "markdown",
      "metadata": {
        "id": "w1zYq6ffgoWl",
        "colab_type": "text"
      },
      "source": [
        "dummy variable give you dummy variable \n",
        "that create a new variable columns"
      ]
    },
    {
      "cell_type": "code",
      "metadata": {
        "id": "9NXmQyN6gd0z",
        "colab_type": "code",
        "colab": {
          "base_uri": "https://localhost:8080/",
          "height": 204
        },
        "outputId": "3028b668-edec-45ee-dc6b-71fbb788494e"
      },
      "source": [
        "geography.head()"
      ],
      "execution_count": 11,
      "outputs": [
        {
          "output_type": "execute_result",
          "data": {
            "text/html": [
              "<div>\n",
              "<style scoped>\n",
              "    .dataframe tbody tr th:only-of-type {\n",
              "        vertical-align: middle;\n",
              "    }\n",
              "\n",
              "    .dataframe tbody tr th {\n",
              "        vertical-align: top;\n",
              "    }\n",
              "\n",
              "    .dataframe thead th {\n",
              "        text-align: right;\n",
              "    }\n",
              "</style>\n",
              "<table border=\"1\" class=\"dataframe\">\n",
              "  <thead>\n",
              "    <tr style=\"text-align: right;\">\n",
              "      <th></th>\n",
              "      <th>Germany</th>\n",
              "      <th>Spain</th>\n",
              "    </tr>\n",
              "  </thead>\n",
              "  <tbody>\n",
              "    <tr>\n",
              "      <th>0</th>\n",
              "      <td>0</td>\n",
              "      <td>0</td>\n",
              "    </tr>\n",
              "    <tr>\n",
              "      <th>1</th>\n",
              "      <td>0</td>\n",
              "      <td>1</td>\n",
              "    </tr>\n",
              "    <tr>\n",
              "      <th>2</th>\n",
              "      <td>0</td>\n",
              "      <td>0</td>\n",
              "    </tr>\n",
              "    <tr>\n",
              "      <th>3</th>\n",
              "      <td>0</td>\n",
              "      <td>0</td>\n",
              "    </tr>\n",
              "    <tr>\n",
              "      <th>4</th>\n",
              "      <td>0</td>\n",
              "      <td>1</td>\n",
              "    </tr>\n",
              "  </tbody>\n",
              "</table>\n",
              "</div>"
            ],
            "text/plain": [
              "   Germany  Spain\n",
              "0        0      0\n",
              "1        0      1\n",
              "2        0      0\n",
              "3        0      0\n",
              "4        0      1"
            ]
          },
          "metadata": {
            "tags": []
          },
          "execution_count": 11
        }
      ]
    },
    {
      "cell_type": "code",
      "metadata": {
        "id": "I7wGDh82g3Mp",
        "colab_type": "code",
        "colab": {
          "base_uri": "https://localhost:8080/",
          "height": 204
        },
        "outputId": "c78593d8-1c89-49bc-ad76-76e4bed75b55"
      },
      "source": [
        "gender.head()"
      ],
      "execution_count": 12,
      "outputs": [
        {
          "output_type": "execute_result",
          "data": {
            "text/html": [
              "<div>\n",
              "<style scoped>\n",
              "    .dataframe tbody tr th:only-of-type {\n",
              "        vertical-align: middle;\n",
              "    }\n",
              "\n",
              "    .dataframe tbody tr th {\n",
              "        vertical-align: top;\n",
              "    }\n",
              "\n",
              "    .dataframe thead th {\n",
              "        text-align: right;\n",
              "    }\n",
              "</style>\n",
              "<table border=\"1\" class=\"dataframe\">\n",
              "  <thead>\n",
              "    <tr style=\"text-align: right;\">\n",
              "      <th></th>\n",
              "      <th>Male</th>\n",
              "    </tr>\n",
              "  </thead>\n",
              "  <tbody>\n",
              "    <tr>\n",
              "      <th>0</th>\n",
              "      <td>0</td>\n",
              "    </tr>\n",
              "    <tr>\n",
              "      <th>1</th>\n",
              "      <td>0</td>\n",
              "    </tr>\n",
              "    <tr>\n",
              "      <th>2</th>\n",
              "      <td>0</td>\n",
              "    </tr>\n",
              "    <tr>\n",
              "      <th>3</th>\n",
              "      <td>0</td>\n",
              "    </tr>\n",
              "    <tr>\n",
              "      <th>4</th>\n",
              "      <td>0</td>\n",
              "    </tr>\n",
              "  </tbody>\n",
              "</table>\n",
              "</div>"
            ],
            "text/plain": [
              "   Male\n",
              "0     0\n",
              "1     0\n",
              "2     0\n",
              "3     0\n",
              "4     0"
            ]
          },
          "metadata": {
            "tags": []
          },
          "execution_count": 12
        }
      ]
    },
    {
      "cell_type": "code",
      "metadata": {
        "id": "8ypW95XakBIK",
        "colab_type": "code",
        "colab": {}
      },
      "source": [
        "X=pd.concat([X,geography,gender],axis=1)"
      ],
      "execution_count": 0,
      "outputs": []
    },
    {
      "cell_type": "code",
      "metadata": {
        "id": "FJfaslsUku-1",
        "colab_type": "code",
        "colab": {}
      },
      "source": [
        "X=X.drop(['Geography','Gender'],axis=1)\n"
      ],
      "execution_count": 0,
      "outputs": []
    },
    {
      "cell_type": "code",
      "metadata": {
        "id": "bcOplAw4k9v-",
        "colab_type": "code",
        "colab": {}
      },
      "source": [
        "from sklearn.model_selection import train_test_split\n",
        "X_train, X_test, y_train, y_test = train_test_split(X, y, test_size = 0.2, random_state = 0)\n"
      ],
      "execution_count": 0,
      "outputs": []
    },
    {
      "cell_type": "code",
      "metadata": {
        "id": "ht3K_JGllTKO",
        "colab_type": "code",
        "colab": {}
      },
      "source": [
        "from sklearn.preprocessing import StandardScaler\n",
        "sc = StandardScaler()\n",
        "X_train = sc.fit_transform(X_train)\n",
        "X_test = sc.transform(X_test)\n"
      ],
      "execution_count": 0,
      "outputs": []
    },
    {
      "cell_type": "code",
      "metadata": {
        "id": "Mer_PIezliuq",
        "colab_type": "code",
        "colab": {
          "base_uri": "https://localhost:8080/",
          "height": 34
        },
        "outputId": "7d1d3bce-cabb-4b02-873d-34d96f99a305"
      },
      "source": [
        "# Part 2 - Now let's make the ANN!\n",
        "\n",
        "# Importing the Keras libraries and packages\n",
        "import keras\n",
        "from keras.models import Sequential\n",
        "from keras.layers import Dense\n",
        "from keras.layers import LeakyReLU,PReLU,ELU\n",
        "from keras.layers import Dropout\n"
      ],
      "execution_count": 18,
      "outputs": [
        {
          "output_type": "stream",
          "text": [
            "Using TensorFlow backend.\n"
          ],
          "name": "stderr"
        }
      ]
    },
    {
      "cell_type": "code",
      "metadata": {
        "id": "JQ06fMILnAIe",
        "colab_type": "code",
        "colab": {}
      },
      "source": [
        "classifier = Sequential()\n",
        "classifier.add(Dense(output_dim = 6, init = 'he_uniform',activation='relu',input_dim = 11))\n",
        "classifier.add(Dense(output_dim = 6, init = 'he_uniform',activation='relu'))\n",
        "classifier.compile(optimizer = 'Adamax', loss = 'binary_crossentropy', metrics = ['accuracy'])\n",
        "model_history=classifier.fit(X_train, y_train,validation_split=0.33, batch_size = 10, nb_epoch = 100)\n",
        "print(model_history.history.keys())\n"
      ],
      "execution_count": 0,
      "outputs": []
    },
    {
      "cell_type": "code",
      "metadata": {
        "id": "2dxDU0p-p0ry",
        "colab_type": "code",
        "colab": {
          "base_uri": "https://localhost:8080/",
          "height": 1000
        },
        "outputId": "5cfd656c-1eed-4bfa-ee09-b443daf93c57"
      },
      "source": [
        "# Artificial Neural Network\n",
        "\n",
        "\n",
        "# Part 1 - Data Preprocessing\n",
        "\n",
        "# Importing the libraries\n",
        "import numpy as np\n",
        "import matplotlib.pyplot as plt\n",
        "import pandas as pd\n",
        "\n",
        "# Importing the dataset\n",
        "dataset = pd.read_csv('/Churn_Modelling.csv')\n",
        "X = dataset.iloc[:, 3:13]\n",
        "y = dataset.iloc[:, 13]\n",
        "\n",
        "#Create dummy variables\n",
        "geography=pd.get_dummies(X[\"Geography\"],drop_first=True)\n",
        "gender=pd.get_dummies(X['Gender'],drop_first=True)\n",
        "\n",
        "## Concatenate the Data Frames\n",
        "\n",
        "X=pd.concat([X,geography,gender],axis=1)\n",
        "\n",
        "## Drop Unnecessary columns\n",
        "X=X.drop(['Geography','Gender'],axis=1)\n",
        "\n",
        "# Splitting the dataset into the Training set and Test set\n",
        "from sklearn.model_selection import train_test_split\n",
        "X_train, X_test, y_train, y_test = train_test_split(X, y, test_size = 0.2, random_state = 0)\n",
        "\n",
        "# Feature Scaling\n",
        "from sklearn.preprocessing import StandardScaler\n",
        "sc = StandardScaler()\n",
        "X_train = sc.fit_transform(X_train)\n",
        "X_test = sc.transform(X_test)\n",
        "\n",
        "# Part 2 - Now let's make the ANN!\n",
        "\n",
        "# Importing the Keras libraries and packages\n",
        "import keras\n",
        "from keras.models import Sequential\n",
        "from keras.layers import Dense\n",
        "from keras.layers import LeakyReLU,PReLU,ELU\n",
        "from keras.layers import Dropout\n",
        "\n",
        "\n",
        "# Initialising the ANN\n",
        "classifier = Sequential()\n",
        "\n",
        "# Adding the input layer and the first hidden layer\n",
        "classifier.add(Dense(output_dim = 6, init = 'he_uniform',activation='relu',input_dim = 11))\n",
        "\n",
        "# Adding the second hidden layer\n",
        "classifier.add(Dense(output_dim = 6, init = 'he_uniform',activation='relu'))\n",
        "# Adding the output layer\n",
        "classifier.add(Dense(output_dim = 1, init = 'glorot_uniform', activation = 'sigmoid'))\n",
        "\n",
        "# Compiling the ANN\n",
        "classifier.compile(optimizer = 'Adamax', loss = 'binary_crossentropy', metrics = ['accuracy'])\n",
        "\n",
        "# Fitting the ANN to the Training set\n",
        "model_history=classifier.fit(X_train, y_train,validation_split=0.33, batch_size = 10, nb_epoch = 100)\n",
        "\n",
        "# list all data in history\n",
        "\n",
        "print(model_history.history.keys())\n",
        "# summarize history for accuracy\n",
        "plt.plot(model_history.history['acc'])\n",
        "plt.plot(model_history.history['val_acc'])\n",
        "plt.title('model accuracy')\n",
        "plt.ylabel('accuracy')\n",
        "plt.xlabel('epoch')\n",
        "plt.legend(['train', 'test'], loc='upper left')\n",
        "plt.show()\n",
        "\n",
        "# summarize history for loss\n",
        "plt.plot(model_history.history['loss'])\n",
        "plt.plot(model_history.history['val_loss'])\n",
        "plt.title('model loss')\n",
        "plt.ylabel('loss')\n",
        "plt.xlabel('epoch')\n",
        "plt.legend(['train', 'test'], loc='upper left')\n",
        "plt.show()\n",
        "\n",
        "# Part 3 - Making the predictions and evaluating the model\n",
        "\n",
        "# Predicting the Test set results\n",
        "y_pred = classifier.predict(X_test)\n",
        "y_pred = (y_pred > 0.5)\n",
        "\n",
        "# Making the Confusion Matrix\n",
        "from sklearn.metrics import confusion_matrix\n",
        "cm = confusion_matrix(y_test, y_pred)\n",
        "\n",
        "# Calculate the Accuracy\n",
        "from sklearn.metrics import accuracy_score\n",
        "score=accuracy_score(y_pred,y_test)\n",
        "\n",
        "\n",
        "\n",
        "\n"
      ],
      "execution_count": 27,
      "outputs": [
        {
          "output_type": "stream",
          "text": [
            "/usr/local/lib/python3.6/dist-packages/ipykernel_launcher.py:45: UserWarning: Update your `Dense` call to the Keras 2 API: `Dense(activation=\"relu\", input_dim=11, units=6, kernel_initializer=\"he_uniform\")`\n",
            "/usr/local/lib/python3.6/dist-packages/ipykernel_launcher.py:48: UserWarning: Update your `Dense` call to the Keras 2 API: `Dense(activation=\"relu\", units=6, kernel_initializer=\"he_uniform\")`\n",
            "/usr/local/lib/python3.6/dist-packages/ipykernel_launcher.py:50: UserWarning: Update your `Dense` call to the Keras 2 API: `Dense(activation=\"sigmoid\", units=1, kernel_initializer=\"glorot_uniform\")`\n",
            "/usr/local/lib/python3.6/dist-packages/ipykernel_launcher.py:56: UserWarning: The `nb_epoch` argument in `fit` has been renamed `epochs`.\n"
          ],
          "name": "stderr"
        },
        {
          "output_type": "stream",
          "text": [
            "WARNING:tensorflow:From /usr/local/lib/python3.6/dist-packages/keras/backend/tensorflow_backend.py:1033: The name tf.assign_add is deprecated. Please use tf.compat.v1.assign_add instead.\n",
            "\n",
            "WARNING:tensorflow:From /usr/local/lib/python3.6/dist-packages/keras/backend/tensorflow_backend.py:1020: The name tf.assign is deprecated. Please use tf.compat.v1.assign instead.\n",
            "\n",
            "WARNING:tensorflow:From /usr/local/lib/python3.6/dist-packages/keras/backend/tensorflow_backend.py:3005: The name tf.Session is deprecated. Please use tf.compat.v1.Session instead.\n",
            "\n",
            "Train on 5359 samples, validate on 2641 samples\n",
            "Epoch 1/100\n",
            "WARNING:tensorflow:From /usr/local/lib/python3.6/dist-packages/keras/backend/tensorflow_backend.py:190: The name tf.get_default_session is deprecated. Please use tf.compat.v1.get_default_session instead.\n",
            "\n",
            "WARNING:tensorflow:From /usr/local/lib/python3.6/dist-packages/keras/backend/tensorflow_backend.py:197: The name tf.ConfigProto is deprecated. Please use tf.compat.v1.ConfigProto instead.\n",
            "\n",
            "WARNING:tensorflow:From /usr/local/lib/python3.6/dist-packages/keras/backend/tensorflow_backend.py:207: The name tf.global_variables is deprecated. Please use tf.compat.v1.global_variables instead.\n",
            "\n",
            "WARNING:tensorflow:From /usr/local/lib/python3.6/dist-packages/keras/backend/tensorflow_backend.py:216: The name tf.is_variable_initialized is deprecated. Please use tf.compat.v1.is_variable_initialized instead.\n",
            "\n",
            "WARNING:tensorflow:From /usr/local/lib/python3.6/dist-packages/keras/backend/tensorflow_backend.py:223: The name tf.variables_initializer is deprecated. Please use tf.compat.v1.variables_initializer instead.\n",
            "\n",
            "5359/5359 [==============================] - 1s 251us/step - loss: 0.6456 - acc: 0.6656 - val_loss: 0.5057 - val_acc: 0.7823\n",
            "Epoch 2/100\n",
            "5359/5359 [==============================] - 1s 122us/step - loss: 0.4761 - acc: 0.8000 - val_loss: 0.4626 - val_acc: 0.8039\n",
            "Epoch 3/100\n",
            "5359/5359 [==============================] - 1s 128us/step - loss: 0.4480 - acc: 0.8100 - val_loss: 0.4453 - val_acc: 0.8084\n",
            "Epoch 4/100\n",
            "5359/5359 [==============================] - 1s 126us/step - loss: 0.4331 - acc: 0.8141 - val_loss: 0.4364 - val_acc: 0.8080\n",
            "Epoch 5/100\n",
            "5359/5359 [==============================] - 1s 125us/step - loss: 0.4238 - acc: 0.8201 - val_loss: 0.4305 - val_acc: 0.8122\n",
            "Epoch 6/100\n",
            "5359/5359 [==============================] - 1s 130us/step - loss: 0.4169 - acc: 0.8261 - val_loss: 0.4259 - val_acc: 0.8141\n",
            "Epoch 7/100\n",
            "5359/5359 [==============================] - 1s 125us/step - loss: 0.4103 - acc: 0.8293 - val_loss: 0.4209 - val_acc: 0.8167\n",
            "Epoch 8/100\n",
            "5359/5359 [==============================] - 1s 126us/step - loss: 0.4035 - acc: 0.8306 - val_loss: 0.4150 - val_acc: 0.8190\n",
            "Epoch 9/100\n",
            "5359/5359 [==============================] - 1s 139us/step - loss: 0.3960 - acc: 0.8347 - val_loss: 0.4084 - val_acc: 0.8243\n",
            "Epoch 10/100\n",
            "5359/5359 [==============================] - 1s 136us/step - loss: 0.3878 - acc: 0.8427 - val_loss: 0.4014 - val_acc: 0.8266\n",
            "Epoch 11/100\n",
            "5359/5359 [==============================] - 1s 134us/step - loss: 0.3801 - acc: 0.8466 - val_loss: 0.3946 - val_acc: 0.8326\n",
            "Epoch 12/100\n",
            "5359/5359 [==============================] - 1s 138us/step - loss: 0.3735 - acc: 0.8492 - val_loss: 0.3897 - val_acc: 0.8345\n",
            "Epoch 13/100\n",
            "5359/5359 [==============================] - 1s 138us/step - loss: 0.3682 - acc: 0.8515 - val_loss: 0.3858 - val_acc: 0.8353\n",
            "Epoch 14/100\n",
            "5359/5359 [==============================] - 1s 135us/step - loss: 0.3638 - acc: 0.8533 - val_loss: 0.3823 - val_acc: 0.8379\n",
            "Epoch 15/100\n",
            "5359/5359 [==============================] - 1s 134us/step - loss: 0.3604 - acc: 0.8548 - val_loss: 0.3799 - val_acc: 0.8372\n",
            "Epoch 16/100\n",
            "5359/5359 [==============================] - 1s 135us/step - loss: 0.3575 - acc: 0.8554 - val_loss: 0.3774 - val_acc: 0.8376\n",
            "Epoch 17/100\n",
            "5359/5359 [==============================] - 1s 137us/step - loss: 0.3549 - acc: 0.8550 - val_loss: 0.3750 - val_acc: 0.8387\n",
            "Epoch 18/100\n",
            "5359/5359 [==============================] - 1s 133us/step - loss: 0.3524 - acc: 0.8550 - val_loss: 0.3730 - val_acc: 0.8395\n",
            "Epoch 19/100\n",
            "5359/5359 [==============================] - 1s 137us/step - loss: 0.3507 - acc: 0.8554 - val_loss: 0.3713 - val_acc: 0.8410\n",
            "Epoch 20/100\n",
            "5359/5359 [==============================] - 1s 138us/step - loss: 0.3488 - acc: 0.8561 - val_loss: 0.3699 - val_acc: 0.8410\n",
            "Epoch 21/100\n",
            "5359/5359 [==============================] - 1s 133us/step - loss: 0.3472 - acc: 0.8561 - val_loss: 0.3688 - val_acc: 0.8421\n",
            "Epoch 22/100\n",
            "5359/5359 [==============================] - 1s 135us/step - loss: 0.3458 - acc: 0.8559 - val_loss: 0.3682 - val_acc: 0.8432\n",
            "Epoch 23/100\n",
            "5359/5359 [==============================] - 1s 135us/step - loss: 0.3452 - acc: 0.8576 - val_loss: 0.3677 - val_acc: 0.8451\n",
            "Epoch 24/100\n",
            "5359/5359 [==============================] - 1s 123us/step - loss: 0.3441 - acc: 0.8556 - val_loss: 0.3671 - val_acc: 0.8448\n",
            "Epoch 25/100\n",
            "5359/5359 [==============================] - 1s 126us/step - loss: 0.3431 - acc: 0.8565 - val_loss: 0.3662 - val_acc: 0.8459\n",
            "Epoch 26/100\n",
            "5359/5359 [==============================] - 1s 126us/step - loss: 0.3423 - acc: 0.8574 - val_loss: 0.3660 - val_acc: 0.8466\n",
            "Epoch 27/100\n",
            "5359/5359 [==============================] - 1s 131us/step - loss: 0.3415 - acc: 0.8576 - val_loss: 0.3662 - val_acc: 0.8482\n",
            "Epoch 28/100\n",
            "5359/5359 [==============================] - 1s 127us/step - loss: 0.3409 - acc: 0.8569 - val_loss: 0.3653 - val_acc: 0.8470\n",
            "Epoch 29/100\n",
            "5359/5359 [==============================] - 1s 125us/step - loss: 0.3404 - acc: 0.8576 - val_loss: 0.3652 - val_acc: 0.8459\n",
            "Epoch 30/100\n",
            "5359/5359 [==============================] - 1s 126us/step - loss: 0.3398 - acc: 0.8584 - val_loss: 0.3645 - val_acc: 0.8485\n",
            "Epoch 31/100\n",
            "5359/5359 [==============================] - 1s 127us/step - loss: 0.3393 - acc: 0.8582 - val_loss: 0.3646 - val_acc: 0.8489\n",
            "Epoch 32/100\n",
            "5359/5359 [==============================] - 1s 127us/step - loss: 0.3390 - acc: 0.8591 - val_loss: 0.3644 - val_acc: 0.8485\n",
            "Epoch 33/100\n",
            "5359/5359 [==============================] - 1s 126us/step - loss: 0.3386 - acc: 0.8589 - val_loss: 0.3643 - val_acc: 0.8482\n",
            "Epoch 34/100\n",
            "5359/5359 [==============================] - 1s 125us/step - loss: 0.3382 - acc: 0.8600 - val_loss: 0.3641 - val_acc: 0.8478\n",
            "Epoch 35/100\n",
            "5359/5359 [==============================] - 1s 130us/step - loss: 0.3378 - acc: 0.8593 - val_loss: 0.3636 - val_acc: 0.8474\n",
            "Epoch 36/100\n",
            "5359/5359 [==============================] - 1s 128us/step - loss: 0.3375 - acc: 0.8612 - val_loss: 0.3638 - val_acc: 0.8478\n",
            "Epoch 37/100\n",
            "5359/5359 [==============================] - 1s 125us/step - loss: 0.3368 - acc: 0.8615 - val_loss: 0.3637 - val_acc: 0.8466\n",
            "Epoch 38/100\n",
            "5359/5359 [==============================] - 1s 127us/step - loss: 0.3367 - acc: 0.8619 - val_loss: 0.3632 - val_acc: 0.8470\n",
            "Epoch 39/100\n",
            "5359/5359 [==============================] - 1s 130us/step - loss: 0.3366 - acc: 0.8614 - val_loss: 0.3642 - val_acc: 0.8444\n",
            "Epoch 40/100\n",
            "5359/5359 [==============================] - 1s 126us/step - loss: 0.3361 - acc: 0.8619 - val_loss: 0.3637 - val_acc: 0.8485\n",
            "Epoch 41/100\n",
            "5359/5359 [==============================] - 1s 125us/step - loss: 0.3357 - acc: 0.8623 - val_loss: 0.3647 - val_acc: 0.8459\n",
            "Epoch 42/100\n",
            "5359/5359 [==============================] - 1s 129us/step - loss: 0.3357 - acc: 0.8625 - val_loss: 0.3635 - val_acc: 0.8455\n",
            "Epoch 43/100\n",
            "5359/5359 [==============================] - 1s 129us/step - loss: 0.3354 - acc: 0.8627 - val_loss: 0.3638 - val_acc: 0.8459\n",
            "Epoch 44/100\n",
            "5359/5359 [==============================] - 1s 127us/step - loss: 0.3352 - acc: 0.8638 - val_loss: 0.3631 - val_acc: 0.8474\n",
            "Epoch 45/100\n",
            "5359/5359 [==============================] - 1s 129us/step - loss: 0.3350 - acc: 0.8645 - val_loss: 0.3636 - val_acc: 0.8474\n",
            "Epoch 46/100\n",
            "5359/5359 [==============================] - 1s 128us/step - loss: 0.3342 - acc: 0.8628 - val_loss: 0.3639 - val_acc: 0.8448\n",
            "Epoch 47/100\n",
            "5359/5359 [==============================] - 1s 127us/step - loss: 0.3346 - acc: 0.8625 - val_loss: 0.3637 - val_acc: 0.8482\n",
            "Epoch 48/100\n",
            "5359/5359 [==============================] - 1s 127us/step - loss: 0.3341 - acc: 0.8630 - val_loss: 0.3634 - val_acc: 0.8474\n",
            "Epoch 49/100\n",
            "5359/5359 [==============================] - 1s 127us/step - loss: 0.3337 - acc: 0.8625 - val_loss: 0.3637 - val_acc: 0.8470\n",
            "Epoch 50/100\n",
            "5359/5359 [==============================] - 1s 128us/step - loss: 0.3337 - acc: 0.8625 - val_loss: 0.3638 - val_acc: 0.8478\n",
            "Epoch 51/100\n",
            "5359/5359 [==============================] - 1s 126us/step - loss: 0.3333 - acc: 0.8638 - val_loss: 0.3637 - val_acc: 0.8474\n",
            "Epoch 52/100\n",
            "5359/5359 [==============================] - 1s 131us/step - loss: 0.3334 - acc: 0.8643 - val_loss: 0.3643 - val_acc: 0.8463\n",
            "Epoch 53/100\n",
            "5359/5359 [==============================] - 1s 127us/step - loss: 0.3329 - acc: 0.8645 - val_loss: 0.3658 - val_acc: 0.8478\n",
            "Epoch 54/100\n",
            "5359/5359 [==============================] - 1s 128us/step - loss: 0.3333 - acc: 0.8630 - val_loss: 0.3642 - val_acc: 0.8466\n",
            "Epoch 55/100\n",
            "5359/5359 [==============================] - 1s 128us/step - loss: 0.3329 - acc: 0.8647 - val_loss: 0.3638 - val_acc: 0.8482\n",
            "Epoch 56/100\n",
            "5359/5359 [==============================] - 1s 124us/step - loss: 0.3329 - acc: 0.8643 - val_loss: 0.3641 - val_acc: 0.8459\n",
            "Epoch 57/100\n",
            "5359/5359 [==============================] - 1s 126us/step - loss: 0.3327 - acc: 0.8649 - val_loss: 0.3650 - val_acc: 0.8466\n",
            "Epoch 58/100\n",
            "5359/5359 [==============================] - 1s 129us/step - loss: 0.3324 - acc: 0.8640 - val_loss: 0.3639 - val_acc: 0.8463\n",
            "Epoch 59/100\n",
            "5359/5359 [==============================] - 1s 129us/step - loss: 0.3325 - acc: 0.8634 - val_loss: 0.3635 - val_acc: 0.8470\n",
            "Epoch 60/100\n",
            "5359/5359 [==============================] - 1s 125us/step - loss: 0.3321 - acc: 0.8653 - val_loss: 0.3633 - val_acc: 0.8474\n",
            "Epoch 61/100\n",
            "5359/5359 [==============================] - 1s 126us/step - loss: 0.3321 - acc: 0.8642 - val_loss: 0.3639 - val_acc: 0.8478\n",
            "Epoch 62/100\n",
            "5359/5359 [==============================] - 1s 128us/step - loss: 0.3323 - acc: 0.8643 - val_loss: 0.3635 - val_acc: 0.8474\n",
            "Epoch 63/100\n",
            "5359/5359 [==============================] - 1s 124us/step - loss: 0.3323 - acc: 0.8632 - val_loss: 0.3641 - val_acc: 0.8474\n",
            "Epoch 64/100\n",
            "5359/5359 [==============================] - 1s 126us/step - loss: 0.3318 - acc: 0.8632 - val_loss: 0.3643 - val_acc: 0.8470\n",
            "Epoch 65/100\n",
            "5359/5359 [==============================] - 1s 127us/step - loss: 0.3318 - acc: 0.8643 - val_loss: 0.3645 - val_acc: 0.8463\n",
            "Epoch 66/100\n",
            "5359/5359 [==============================] - 1s 128us/step - loss: 0.3321 - acc: 0.8640 - val_loss: 0.3647 - val_acc: 0.8463\n",
            "Epoch 67/100\n",
            "5359/5359 [==============================] - 1s 127us/step - loss: 0.3316 - acc: 0.8638 - val_loss: 0.3638 - val_acc: 0.8482\n",
            "Epoch 68/100\n",
            "5359/5359 [==============================] - 1s 129us/step - loss: 0.3317 - acc: 0.8636 - val_loss: 0.3638 - val_acc: 0.8478\n",
            "Epoch 69/100\n",
            "5359/5359 [==============================] - 1s 129us/step - loss: 0.3316 - acc: 0.8649 - val_loss: 0.3640 - val_acc: 0.8478\n",
            "Epoch 70/100\n",
            "5359/5359 [==============================] - 1s 127us/step - loss: 0.3316 - acc: 0.8636 - val_loss: 0.3648 - val_acc: 0.8478\n",
            "Epoch 71/100\n",
            "5359/5359 [==============================] - 1s 126us/step - loss: 0.3316 - acc: 0.8636 - val_loss: 0.3646 - val_acc: 0.8493\n",
            "Epoch 72/100\n",
            "5359/5359 [==============================] - 1s 126us/step - loss: 0.3313 - acc: 0.8640 - val_loss: 0.3641 - val_acc: 0.8474\n",
            "Epoch 73/100\n",
            "5359/5359 [==============================] - 1s 130us/step - loss: 0.3315 - acc: 0.8643 - val_loss: 0.3642 - val_acc: 0.8482\n",
            "Epoch 74/100\n",
            "5359/5359 [==============================] - 1s 137us/step - loss: 0.3313 - acc: 0.8638 - val_loss: 0.3643 - val_acc: 0.8455\n",
            "Epoch 75/100\n",
            "5359/5359 [==============================] - 1s 125us/step - loss: 0.3314 - acc: 0.8649 - val_loss: 0.3643 - val_acc: 0.8482\n",
            "Epoch 76/100\n",
            "5359/5359 [==============================] - 1s 127us/step - loss: 0.3314 - acc: 0.8640 - val_loss: 0.3637 - val_acc: 0.8463\n",
            "Epoch 77/100\n",
            "5359/5359 [==============================] - 1s 127us/step - loss: 0.3313 - acc: 0.8628 - val_loss: 0.3646 - val_acc: 0.8478\n",
            "Epoch 78/100\n",
            "5359/5359 [==============================] - 1s 125us/step - loss: 0.3310 - acc: 0.8642 - val_loss: 0.3635 - val_acc: 0.8485\n",
            "Epoch 79/100\n",
            "5359/5359 [==============================] - 1s 126us/step - loss: 0.3311 - acc: 0.8642 - val_loss: 0.3645 - val_acc: 0.8482\n",
            "Epoch 80/100\n",
            "5359/5359 [==============================] - 1s 121us/step - loss: 0.3311 - acc: 0.8636 - val_loss: 0.3647 - val_acc: 0.8482\n",
            "Epoch 81/100\n",
            "5359/5359 [==============================] - 1s 128us/step - loss: 0.3311 - acc: 0.8643 - val_loss: 0.3637 - val_acc: 0.8470\n",
            "Epoch 82/100\n",
            "5359/5359 [==============================] - 1s 130us/step - loss: 0.3311 - acc: 0.8645 - val_loss: 0.3637 - val_acc: 0.8466\n",
            "Epoch 83/100\n",
            "5359/5359 [==============================] - 1s 128us/step - loss: 0.3309 - acc: 0.8630 - val_loss: 0.3635 - val_acc: 0.8466\n",
            "Epoch 84/100\n",
            "5359/5359 [==============================] - 1s 127us/step - loss: 0.3311 - acc: 0.8647 - val_loss: 0.3644 - val_acc: 0.8482\n",
            "Epoch 85/100\n",
            "5359/5359 [==============================] - 1s 129us/step - loss: 0.3308 - acc: 0.8645 - val_loss: 0.3640 - val_acc: 0.8489\n",
            "Epoch 86/100\n",
            "5359/5359 [==============================] - 1s 130us/step - loss: 0.3308 - acc: 0.8645 - val_loss: 0.3638 - val_acc: 0.8466\n",
            "Epoch 87/100\n",
            "5359/5359 [==============================] - 1s 122us/step - loss: 0.3309 - acc: 0.8645 - val_loss: 0.3640 - val_acc: 0.8478\n",
            "Epoch 88/100\n",
            "5359/5359 [==============================] - 1s 128us/step - loss: 0.3308 - acc: 0.8645 - val_loss: 0.3634 - val_acc: 0.8489\n",
            "Epoch 89/100\n",
            "5359/5359 [==============================] - 1s 130us/step - loss: 0.3310 - acc: 0.8634 - val_loss: 0.3640 - val_acc: 0.8478\n",
            "Epoch 90/100\n",
            "5359/5359 [==============================] - 1s 127us/step - loss: 0.3307 - acc: 0.8628 - val_loss: 0.3644 - val_acc: 0.8489\n",
            "Epoch 91/100\n",
            "5359/5359 [==============================] - 1s 126us/step - loss: 0.3306 - acc: 0.8643 - val_loss: 0.3636 - val_acc: 0.8466\n",
            "Epoch 92/100\n",
            "5359/5359 [==============================] - 1s 129us/step - loss: 0.3308 - acc: 0.8645 - val_loss: 0.3637 - val_acc: 0.8493\n",
            "Epoch 93/100\n",
            "5359/5359 [==============================] - 1s 130us/step - loss: 0.3307 - acc: 0.8640 - val_loss: 0.3641 - val_acc: 0.8478\n",
            "Epoch 94/100\n",
            "5359/5359 [==============================] - 1s 125us/step - loss: 0.3306 - acc: 0.8643 - val_loss: 0.3652 - val_acc: 0.8489\n",
            "Epoch 95/100\n",
            "5359/5359 [==============================] - 1s 129us/step - loss: 0.3308 - acc: 0.8638 - val_loss: 0.3637 - val_acc: 0.8474\n",
            "Epoch 96/100\n",
            "5359/5359 [==============================] - 1s 127us/step - loss: 0.3307 - acc: 0.8632 - val_loss: 0.3638 - val_acc: 0.8466\n",
            "Epoch 97/100\n",
            "5359/5359 [==============================] - 1s 125us/step - loss: 0.3306 - acc: 0.8640 - val_loss: 0.3639 - val_acc: 0.8478\n",
            "Epoch 98/100\n",
            "5359/5359 [==============================] - 1s 129us/step - loss: 0.3304 - acc: 0.8636 - val_loss: 0.3643 - val_acc: 0.8474\n",
            "Epoch 99/100\n",
            "5359/5359 [==============================] - 1s 128us/step - loss: 0.3307 - acc: 0.8645 - val_loss: 0.3646 - val_acc: 0.8470\n",
            "Epoch 100/100\n",
            "5359/5359 [==============================] - 1s 126us/step - loss: 0.3305 - acc: 0.8651 - val_loss: 0.3641 - val_acc: 0.8474\n",
            "dict_keys(['val_loss', 'val_acc', 'loss', 'acc'])\n"
          ],
          "name": "stdout"
        },
        {
          "output_type": "display_data",
          "data": {
            "image/png": "[encoded data removed]",
            "text/plain": [
              "<Figure size 432x288 with 1 Axes>"
            ]
          },
          "metadata": {
            "tags": []
          }
        },
        {
          "output_type": "display_data",
          "data": {
            "image/png": "[encoded data removed]",
            "text/plain": [
              "<Figure size 432x288 with 1 Axes>"
            ]
          },
          "metadata": {
            "tags": []
          }
        }
      ]
    },
    {
      "cell_type": "code",
      "metadata": {
        "id": "aaqfhNKBp1xW",
        "colab_type": "code",
        "colab": {}
      },
      "source": [
        ""
      ],
      "execution_count": 0,
      "outputs": []
    }
  ]
}